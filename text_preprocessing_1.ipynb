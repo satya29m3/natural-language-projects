{
 "cells": [
  {
   "cell_type": "code",
   "execution_count": 5,
   "metadata": {},
   "outputs": [
    {
     "name": "stdout",
     "output_type": "stream",
     "text": [
      "Hieroglyphic writing dates from c. 3000 BC, and is composed of hundreds of symbols. A hieroglyph can represent a word, a sound, or a silent determinative; and the same symbol can serve different purposes in different contexts. Hieroglyphs were a formal script, used on stone monuments and in tombs, that could be as detailed as individual works of art.\n",
      "\n"
     ]
    }
   ],
   "source": [
    "#### DATA LOADING ####\n",
    "import os\n",
    "\n",
    "with open('data/hieroglyph.txt','r') as f:\n",
    "    text = f.read()\n",
    "    print(text)\n",
    "    "
   ]
  },
  {
   "cell_type": "code",
   "execution_count": 6,
   "metadata": {},
   "outputs": [
    {
     "name": "stderr",
     "output_type": "stream",
     "text": [
      "/home/satya/anaconda3/lib/python3.7/importlib/_bootstrap.py:219: RuntimeWarning: numpy.ufunc size changed, may indicate binary incompatibility. Expected 192 from C header, got 216 from PyObject\n",
      "  return f(*args, **kwds)\n"
     ]
    },
    {
     "data": {
      "text/html": [
       "<div>\n",
       "<style scoped>\n",
       "    .dataframe tbody tr th:only-of-type {\n",
       "        vertical-align: middle;\n",
       "    }\n",
       "\n",
       "    .dataframe tbody tr th {\n",
       "        vertical-align: top;\n",
       "    }\n",
       "\n",
       "    .dataframe thead th {\n",
       "        text-align: right;\n",
       "    }\n",
       "</style>\n",
       "<table border=\"1\" class=\"dataframe\">\n",
       "  <thead>\n",
       "    <tr style=\"text-align: right;\">\n",
       "      <th></th>\n",
       "      <th>publisher</th>\n",
       "      <th>title</th>\n",
       "    </tr>\n",
       "  </thead>\n",
       "  <tbody>\n",
       "    <tr>\n",
       "      <th>0</th>\n",
       "      <td>Livemint</td>\n",
       "      <td>fed's charles plosser sees high bar for change...</td>\n",
       "    </tr>\n",
       "    <tr>\n",
       "      <th>1</th>\n",
       "      <td>IFA Magazine</td>\n",
       "      <td>us open: stocks fall after fed official hints ...</td>\n",
       "    </tr>\n",
       "    <tr>\n",
       "      <th>2</th>\n",
       "      <td>IFA Magazine</td>\n",
       "      <td>fed risks falling 'behind the curve', charles ...</td>\n",
       "    </tr>\n",
       "    <tr>\n",
       "      <th>3</th>\n",
       "      <td>Moneynews</td>\n",
       "      <td>fed's plosser: nasty weather has curbed job gr...</td>\n",
       "    </tr>\n",
       "    <tr>\n",
       "      <th>4</th>\n",
       "      <td>NASDAQ</td>\n",
       "      <td>plosser: fed may have to accelerate tapering pace</td>\n",
       "    </tr>\n",
       "  </tbody>\n",
       "</table>\n",
       "</div>"
      ],
      "text/plain": [
       "      publisher                                              title\n",
       "0      Livemint  fed's charles plosser sees high bar for change...\n",
       "1  IFA Magazine  us open: stocks fall after fed official hints ...\n",
       "2  IFA Magazine  fed risks falling 'behind the curve', charles ...\n",
       "3     Moneynews  fed's plosser: nasty weather has curbed job gr...\n",
       "4        NASDAQ  plosser: fed may have to accelerate tapering pace"
      ]
     },
     "execution_count": 6,
     "metadata": {},
     "output_type": "execute_result"
    }
   ],
   "source": [
    "import pandas as pd\n",
    "df = pd.read_csv('data/news.csv')\n",
    "df.head()[['publisher','title']]\n",
    "\n",
    "df['title'] = df['title'].str.lower()\n",
    "df.head()[['publisher','title']]"
   ]
  },
  {
   "cell_type": "code",
   "execution_count": 7,
   "metadata": {},
   "outputs": [
    {
     "name": "stdout",
     "output_type": "stream",
     "text": [
      "{\n",
      "    \"success\": {\n",
      "        \"total\": 1\n",
      "    },\n",
      "    \"contents\": {\n",
      "        \"quotes\": [\n",
      "            {\n",
      "                \"quote\": \"You should never view your challenges as a disadvantage. Instead, it's important for you to understand that your experience facing and overcoming adversity is actually one of your biggest advantages.\",\n",
      "                \"length\": \"199\",\n",
      "                \"author\": \"Michelle Obama\",\n",
      "                \"tags\": [\n",
      "                    \"challenge\",\n",
      "                    \"inspire\"\n",
      "                ],\n",
      "                \"category\": \"inspire\",\n",
      "                \"language\": \"en\",\n",
      "                \"date\": \"2020-03-17\",\n",
      "                \"permalink\": \"https://theysaidso.com/quote/michelle-obama-you-should-never-view-your-challenges-as-a-disadvantage-instead-i\",\n",
      "                \"id\": \"Cui7rno9YsYlmQsPHbg5HgeF\",\n",
      "                \"background\": \"https://theysaidso.com/img/qod/qod-inspire.jpg\",\n",
      "                \"title\": \"Inspiring Quote of the day\"\n",
      "            }\n",
      "        ]\n",
      "    },\n",
      "    \"baseurl\": \"https://theysaidso.com\",\n",
      "    \"copyright\": {\n",
      "        \"year\": 2022,\n",
      "        \"url\": \"https://theysaidso.com\"\n",
      "    }\n",
      "}\n",
      "You should never view your challenges as a disadvantage. Instead, it's important for you to understand that your experience facing and overcoming adversity is actually one of your biggest advantages. \n",
      "-- Inspiring Quote of the day\n"
     ]
    }
   ],
   "source": [
    "import requests\n",
    "import json\n",
    "\n",
    "r = requests.get('https://quotes.rest/qod.json')\n",
    "res = r.json()\n",
    "print(json.dumps(res,indent=4))\n",
    "\n",
    "q = res['contents']['quotes'][0]\n",
    "print(q['quote'],'\\n--',q['title'])"
   ]
  },
  {
   "cell_type": "code",
   "execution_count": 8,
   "metadata": {},
   "outputs": [
    {
     "name": "stdout",
     "output_type": "stream",
     "text": [
      "<html op=\"news\"><head><meta name=\"referrer\" content=\"origin\"><meta name=\"viewport\" content=\"width=device-width, initial-scale=1.0\"><link rel=\"stylesheet\" type=\"text/css\" href=\"news.css?YsQPndo3ANpC0QSFFgZB\">\n",
      "        <link rel=\"shortcut icon\" href=\"favicon.ico\">\n",
      "          <link rel=\"alternate\" type=\"application/rss+xml\" title=\"RSS\" href=\"rss\">\n",
      "        <title>Hacker News</title></head><body><center><table id=\"hnmain\" border=\"0\" cellpadding=\"0\" cellspacing=\"0\" width=\"85%\" bgcolor=\"#f6f6ef\">\n",
      "        <tr><td bgcolor=\"#ff6600\"><table border=\"0\" cellpadding=\"0\" cellspacing=\"0\" width=\"100%\" style=\"padding:2px\"><tr><td style=\"width:18px;padding-right:4px\"><a href=\"https://news.ycombinator.com\"><img src=\"y18.gif\" width=\"18\" height=\"18\" style=\"border:1px white solid;\"></a></td>\n",
      "                  <td style=\"line-height:12pt; height:10px;\"><span class=\"pagetop\"><b class=\"hnname\"><a href=\"news\">Hacker News</a></b>\n",
      "              <a href=\"newest\">new</a> | <a href=\"front\">past</a> | <a href=\"newcomments\">comments</a> | <a href=\"ask\">ask</a> | <a href=\"show\">show</a> | <a href=\"jobs\">jobs</a> | <a href=\"submit\">submit</a>            </span></td><td style=\"text-align:right;padding-right:4px;\"><span class=\"pagetop\">\n",
      "                              <a href=\"login?goto=news\">login</a>\n",
      "                          </span></td>\n",
      "              </tr></table></td></tr>\n",
      "<tr id=\"pagespace\" title=\"\" style=\"height:10px\"></tr><tr><td><table border=\"0\" cellpadding=\"0\" cellspacing=\"0\" class=\"itemlist\">\n",
      "              <tr class='athing' id='22601342'>\n",
      "      <td align=\"right\" valign=\"top\" class=\"title\"><span class=\"rank\">1.</span></td>      <td valign=\"top\" class=\"votelinks\"><center><a id='up_22601342' href='vote?id=22601342&amp;how=up&amp;goto=news'><div class='votearrow' title='upvote'></div></a></center></td><td class=\"title\"><a href=\"https://github.com/nscde/nscde\" class=\"storylink\">NsCDE: Not So Common Desktop Environment</a><span class=\"sitebit comhead\"> (<a href=\"from?site=github.com\"><span class=\"sitestr\">github.com</span></a>)</span></td></tr><tr><td colspan=\"2\"></td><td class=\"subtext\">\n",
      "        <span class=\"score\" id=\"score_22601342\">87 points</span> by <a href=\"user?id=bilegeek\" class=\"hnuser\">bilegeek</a> <span class=\"age\"><a href=\"item?id=22601342\">5 hours ago</a></span> <span id=\"unv_22601342\"></span> | <a href=\"hide?id=22601342&amp;goto=news\">hide</a> | <a href=\"item?id=22601342\">21&nbsp;comments</a>              </td></tr>\n",
      "      <tr class=\"spacer\" style=\"height:5px\"></tr>\n",
      "                <tr class='athing' id='22601196'>\n",
      "      <td align=\"right\" valign=\"top\" class=\"title\"><span class=\"rank\">2.</span></td>      <td valign=\"top\" class=\"votelinks\"><center><a id='up_22601196' href='vote?id=22601196&amp;how=up&amp;goto=news'><div class='votearrow' title='upvote'></div></a></center></td><td class=\"title\"><a href=\"https://www.jstage.jst.go.jp/article/bst/advpub/0/advpub_2020.01047/_pdf/-char/en\" class=\"storylink\">Chloroquine has shown apparent efficacy in treatment of Covid-19</a><span class=\"sitebit comhead\"> (<a href=\"from?site=jst.go.jp\"><span class=\"sitestr\">jst.go.jp</span></a>)</span></td></tr><tr><td colspan=\"2\"></td><td class=\"subtext\">\n",
      "        <span class=\"score\" id=\"score_22601196\">238 points</span> by <a href=\"user?id=robomartin\" class=\"hnuser\">robomartin</a> <span class=\"age\"><a href=\"item?id=22601196\">5 hours ago</a></span> <span id=\"unv_22601196\"></span> | <a href=\"hide?id=22601196&amp;goto=news\">hide</a> | <a href=\"item?id=22601196\">132&nbsp;comments</a>              </td></tr>\n",
      "      <tr class=\"spacer\" style=\"height:5px\"></tr>\n",
      "                <tr class='athing' id='22599953'>\n",
      "      <td align=\"right\" valign=\"top\" class=\"title\"><span class=\"rank\">3.</span></td>      <td valign=\"top\" class=\"votelinks\"><center><a id='up_22599953' href='vote?id=22599953&amp;how=up&amp;goto=news'><div class='votearrow' title='upvote'></div></a></center></td><td class=\"title\"><a href=\"http://akkartik.name/akkartik-convivial-20200315.pdf\" class=\"storylink\">Bicycles for the mind have to be see-through [pdf]</a><span class=\"sitebit comhead\"> (<a href=\"from?site=akkartik.name\"><span class=\"sitestr\">akkartik.name</span></a>)</span></td></tr><tr><td colspan=\"2\"></td><td class=\"subtext\">\n",
      "        <span class=\"score\" id=\"score_22599953\">130 points</span> by <a href=\"user?id=mkeeter\" class=\"hnuser\">mkeeter</a> <span class=\"age\"><a href=\"item?id=22599953\">7 hours ago</a></span> <span id=\"unv_22599953\"></span> | <a href=\"hide?id=22599953&amp;goto=news\">hide</a> | <a href=\"item?id=22599953\">20&nbsp;comments</a>              </td></tr>\n",
      "      <tr class=\"spacer\" style=\"height:5px\"></tr>\n",
      "                <tr class='athing' id='22594549'>\n",
      "      <td align=\"right\" valign=\"top\" class=\"title\"><span class=\"rank\">4.</span></td>      <td valign=\"top\" class=\"votelinks\"><center><a id='up_22594549' href='vote?id=22594549&amp;how=up&amp;goto=news'><div class='votearrow' title='upvote'></div></a></center></td><td class=\"title\"><a href=\"https://github.blog/2020-03-16-npm-is-joining-github/\" class=\"storylink\">NPM Is Joining GitHub</a><span class=\"sitebit comhead\"> (<a href=\"from?site=github.blog\"><span class=\"sitestr\">github.blog</span></a>)</span></td></tr><tr><td colspan=\"2\"></td><td class=\"subtext\">\n",
      "        <span class=\"score\" id=\"score_22594549\">1609 points</span> by <a href=\"user?id=mholt\" class=\"hnuser\">mholt</a> <span class=\"age\"><a href=\"item?id=22594549\">15 hours ago</a></span> <span id=\"unv_22594549\"></span> | <a href=\"hide?id=22594549&amp;goto=news\">hide</a> | <a href=\"item?id=22594549\">472&nbsp;comments</a>              </td></tr>\n",
      "      <tr class=\"spacer\" style=\"height:5px\"></tr>\n",
      "                <tr class='athing' id='22590824'>\n",
      "      <td align=\"right\" valign=\"top\" class=\"title\"><span class=\"rank\">5.</span></td>      <td valign=\"top\" class=\"votelinks\"><center><a id='up_22590824' href='vote?id=22590824&amp;how=up&amp;goto=news'><div class='votearrow' title='upvote'></div></a></center></td><td class=\"title\"><a href=\"https://blog.balthazar-rouberol.com/text-processing-in-the-shell\" class=\"storylink\">Text Processing in the Shell</a><span class=\"sitebit comhead\"> (<a href=\"from?site=balthazar-rouberol.com\"><span class=\"sitestr\">balthazar-rouberol.com</span></a>)</span></td></tr><tr><td colspan=\"2\"></td><td class=\"subtext\">\n",
      "        <span class=\"score\" id=\"score_22590824\">98 points</span> by <a href=\"user?id=pcr910303\" class=\"hnuser\">pcr910303</a> <span class=\"age\"><a href=\"item?id=22590824\">7 hours ago</a></span> <span id=\"unv_22590824\"></span> | <a href=\"hide?id=22590824&amp;goto=news\">hide</a> | <a href=\"item?id=22590824\">13&nbsp;comments</a>              </td></tr>\n",
      "      <tr class=\"spacer\" style=\"height:5px\"></tr>\n",
      "                <tr class='athing' id='22591311'>\n",
      "      <td align=\"right\" valign=\"top\" class=\"title\"><span class=\"rank\">6.</span></td>      <td valign=\"top\" class=\"votelinks\"><center><a id='up_22591311' href='vote?id=22591311&amp;how=up&amp;goto=news'><div class='votearrow' title='upvote'></div></a></center></td><td class=\"title\"><a href=\"https://about.i.ntention.app\" class=\"storylink\">Show HN: Intention – DAG Todo App</a><span class=\"sitebit comhead\"> (<a href=\"from?site=ntention.app\"><span class=\"sitestr\">ntention.app</span></a>)</span></td></tr><tr><td colspan=\"2\"></td><td class=\"subtext\">\n",
      "        <span class=\"score\" id=\"score_22591311\">39 points</span> by <a href=\"user?id=DaveWM\" class=\"hnuser\">DaveWM</a> <span class=\"age\"><a href=\"item?id=22591311\">4 hours ago</a></span> <span id=\"unv_22591311\"></span> | <a href=\"hide?id=22591311&amp;goto=news\">hide</a> | <a href=\"item?id=22591311\">36&nbsp;comments</a>              </td></tr>\n",
      "      <tr class=\"spacer\" style=\"height:5px\"></tr>\n",
      "                <tr class='athing' id='22596158'>\n",
      "      <td align=\"right\" valign=\"top\" class=\"title\"><span class=\"rank\">7.</span></td>      <td valign=\"top\" class=\"votelinks\"><center><a id='up_22596158' href='vote?id=22596158&amp;how=up&amp;goto=news'><div class='votearrow' title='upvote'></div></a></center></td><td class=\"title\"><a href=\"https://meltingasphalt.com/interactive/outbreak/\" class=\"storylink\">Outbreak – playable simulations of a disease outbreak</a><span class=\"sitebit comhead\"> (<a href=\"from?site=meltingasphalt.com\"><span class=\"sitestr\">meltingasphalt.com</span></a>)</span></td></tr><tr><td colspan=\"2\"></td><td class=\"subtext\">\n",
      "        <span class=\"score\" id=\"score_22596158\">250 points</span> by <a href=\"user?id=gringoDan\" class=\"hnuser\">gringoDan</a> <span class=\"age\"><a href=\"item?id=22596158\">13 hours ago</a></span> <span id=\"unv_22596158\"></span> | <a href=\"hide?id=22596158&amp;goto=news\">hide</a> | <a href=\"item?id=22596158\">45&nbsp;comments</a>              </td></tr>\n",
      "      <tr class=\"spacer\" style=\"height:5px\"></tr>\n",
      "                <tr class='athing' id='22597200'>\n",
      "      <td align=\"right\" valign=\"top\" class=\"title\"><span class=\"rank\">8.</span></td>      <td valign=\"top\" class=\"votelinks\"><center><a id='up_22597200' href='vote?id=22597200&amp;how=up&amp;goto=news'><div class='votearrow' title='upvote'></div></a></center></td><td class=\"title\"><a href=\"https://www.wsj.com/articles/amazon-to-hire-100-000-warehouse-and-delivery-workers-amid-coronavirus-shutdowns-11584387833\" class=\"storylink\">Amazon to hire 100k warehouse and delivery workers</a><span class=\"sitebit comhead\"> (<a href=\"from?site=wsj.com\"><span class=\"sitestr\">wsj.com</span></a>)</span></td></tr><tr><td colspan=\"2\"></td><td class=\"subtext\">\n",
      "        <span class=\"score\" id=\"score_22597200\">462 points</span> by <a href=\"user?id=psim1\" class=\"hnuser\">psim1</a> <span class=\"age\"><a href=\"item?id=22597200\">12 hours ago</a></span> <span id=\"unv_22597200\"></span> | <a href=\"hide?id=22597200&amp;goto=news\">hide</a> | <a href=\"item?id=22597200\">267&nbsp;comments</a>              </td></tr>\n",
      "      <tr class=\"spacer\" style=\"height:5px\"></tr>\n",
      "                <tr class='athing' id='22601382'>\n",
      "      <td align=\"right\" valign=\"top\" class=\"title\"><span class=\"rank\">9.</span></td>      <td valign=\"top\" class=\"votelinks\"><center><a id='up_22601382' href='vote?id=22601382&amp;how=up&amp;goto=news'><div class='votearrow' title='upvote'></div></a></center></td><td class=\"title\"><a href=\"https://amigalove.com/viewtopic.php?f=13&amp;t=1387\" class=\"storylink\">The Write Stuff for the Commodore 128</a><span class=\"sitebit comhead\"> (<a href=\"from?site=amigalove.com\"><span class=\"sitestr\">amigalove.com</span></a>)</span></td></tr><tr><td colspan=\"2\"></td><td class=\"subtext\">\n",
      "        <span class=\"score\" id=\"score_22601382\">31 points</span> by <a href=\"user?id=erickhill\" class=\"hnuser\">erickhill</a> <span class=\"age\"><a href=\"item?id=22601382\">5 hours ago</a></span> <span id=\"unv_22601382\"></span> | <a href=\"hide?id=22601382&amp;goto=news\">hide</a> | <a href=\"item?id=22601382\">4&nbsp;comments</a>              </td></tr>\n",
      "      <tr class=\"spacer\" style=\"height:5px\"></tr>\n",
      "                <tr class='athing' id='22591972'>\n",
      "      <td align=\"right\" valign=\"top\" class=\"title\"><span class=\"rank\">10.</span></td>      <td valign=\"top\" class=\"votelinks\"><center><a id='up_22591972' href='vote?id=22591972&amp;how=up&amp;goto=news'><div class='votearrow' title='upvote'></div></a></center></td><td class=\"title\"><a href=\"https://medium.com/@rodrigo.m.mesquita/what-i-learned-recording-an-alternative-album-on-my-own-in-my-room-c440b8201c9\" class=\"storylink\">How I recorded an album on my own, in my room</a><span class=\"sitebit comhead\"> (<a href=\"from?site=medium.com\"><span class=\"sitestr\">medium.com</span></a>)</span></td></tr><tr><td colspan=\"2\"></td><td class=\"subtext\">\n",
      "        <span class=\"score\" id=\"score_22591972\">199 points</span> by <a href=\"user?id=romes\" class=\"hnuser\">romes</a> <span class=\"age\"><a href=\"item?id=22591972\">14 hours ago</a></span> <span id=\"unv_22591972\"></span> | <a href=\"hide?id=22591972&amp;goto=news\">hide</a> | <a href=\"item?id=22591972\">85&nbsp;comments</a>              </td></tr>\n",
      "      <tr class=\"spacer\" style=\"height:5px\"></tr>\n",
      "                <tr class='athing' id='22599224'>\n",
      "      <td align=\"right\" valign=\"top\" class=\"title\"><span class=\"rank\">11.</span></td>      <td valign=\"top\" class=\"votelinks\"><center><a id='up_22599224' href='vote?id=22599224&amp;how=up&amp;goto=news'><div class='votearrow' title='upvote'></div></a></center></td><td class=\"title\"><a href=\"http://www.righto.com/2020/03/looking-inside-vintage-soviet-ttl-logic.html\" class=\"storylink\">Looking inside a vintage Soviet TTL logic integrated circuit</a><span class=\"sitebit comhead\"> (<a href=\"from?site=righto.com\"><span class=\"sitestr\">righto.com</span></a>)</span></td></tr><tr><td colspan=\"2\"></td><td class=\"subtext\">\n",
      "        <span class=\"score\" id=\"score_22599224\">94 points</span> by <a href=\"user?id=sohkamyung\" class=\"hnuser\">sohkamyung</a> <span class=\"age\"><a href=\"item?id=22599224\">9 hours ago</a></span> <span id=\"unv_22599224\"></span> | <a href=\"hide?id=22599224&amp;goto=news\">hide</a> | <a href=\"item?id=22599224\">12&nbsp;comments</a>              </td></tr>\n",
      "      <tr class=\"spacer\" style=\"height:5px\"></tr>\n",
      "                <tr class='athing' id='22597446'>\n",
      "      <td align=\"right\" valign=\"top\" class=\"title\"><span class=\"rank\">12.</span></td>      <td valign=\"top\" class=\"votelinks\"><center><a id='up_22597446' href='vote?id=22597446&amp;how=up&amp;goto=news'><div class='votearrow' title='upvote'></div></a></center></td><td class=\"title\"><a href=\"https://www.worldoil.com/news/2020/3/15/global-oil-use-heads-for-steepest-annual-contraction-in-history\" class=\"storylink\">Global oil use heads for steepest annual contraction</a><span class=\"sitebit comhead\"> (<a href=\"from?site=worldoil.com\"><span class=\"sitestr\">worldoil.com</span></a>)</span></td></tr><tr><td colspan=\"2\"></td><td class=\"subtext\">\n",
      "        <span class=\"score\" id=\"score_22597446\">152 points</span> by <a href=\"user?id=JSeymourATL\" class=\"hnuser\">JSeymourATL</a> <span class=\"age\"><a href=\"item?id=22597446\">11 hours ago</a></span> <span id=\"unv_22597446\"></span> | <a href=\"hide?id=22597446&amp;goto=news\">hide</a> | <a href=\"item?id=22597446\">118&nbsp;comments</a>              </td></tr>\n",
      "      <tr class=\"spacer\" style=\"height:5px\"></tr>\n",
      "                <tr class='athing' id='22597880'>\n",
      "      <td align=\"right\" valign=\"top\" class=\"title\"><span class=\"rank\">13.</span></td>      <td valign=\"top\" class=\"votelinks\"><center><a id='up_22597880' href='vote?id=22597880&amp;how=up&amp;goto=news'><div class='votearrow' title='upvote'></div></a></center></td><td class=\"title\"><a href=\"https://kind.sigs.k8s.io/\" class=\"storylink\">Kind - run local Kubernetes clusters using Docker</a><span class=\"sitebit comhead\"> (<a href=\"from?site=k8s.io\"><span class=\"sitestr\">k8s.io</span></a>)</span></td></tr><tr><td colspan=\"2\"></td><td class=\"subtext\">\n",
      "        <span class=\"score\" id=\"score_22597880\">145 points</span> by <a href=\"user?id=supdatecron\" class=\"hnuser\">supdatecron</a> <span class=\"age\"><a href=\"item?id=22597880\">11 hours ago</a></span> <span id=\"unv_22597880\"></span> | <a href=\"hide?id=22597880&amp;goto=news\">hide</a> | <a href=\"item?id=22597880\">52&nbsp;comments</a>              </td></tr>\n",
      "      <tr class=\"spacer\" style=\"height:5px\"></tr>\n",
      "                <tr class='athing' id='22595575'>\n",
      "      <td align=\"right\" valign=\"top\" class=\"title\"><span class=\"rank\">14.</span></td>      <td valign=\"top\" class=\"votelinks\"><center><a id='up_22595575' href='vote?id=22595575&amp;how=up&amp;goto=news'><div class='votearrow' title='upvote'></div></a></center></td><td class=\"title\"><a href=\"https://plainlanguage.gov/resources/articles/dash-writing-tips/\" class=\"storylink\">Mary Dash's Writing Tips</a><span class=\"sitebit comhead\"> (<a href=\"from?site=plainlanguage.gov\"><span class=\"sitestr\">plainlanguage.gov</span></a>)</span></td></tr><tr><td colspan=\"2\"></td><td class=\"subtext\">\n",
      "        <span class=\"score\" id=\"score_22595575\">163 points</span> by <a href=\"user?id=primogen\" class=\"hnuser\">primogen</a> <span class=\"age\"><a href=\"item?id=22595575\">14 hours ago</a></span> <span id=\"unv_22595575\"></span> | <a href=\"hide?id=22595575&amp;goto=news\">hide</a> | <a href=\"item?id=22595575\">58&nbsp;comments</a>              </td></tr>\n",
      "      <tr class=\"spacer\" style=\"height:5px\"></tr>\n",
      "                <tr class='athing' id='22591949'>\n",
      "      <td align=\"right\" valign=\"top\" class=\"title\"><span class=\"rank\">15.</span></td>      <td valign=\"top\" class=\"votelinks\"><center><a id='up_22591949' href='vote?id=22591949&amp;how=up&amp;goto=news'><div class='votearrow' title='upvote'></div></a></center></td><td class=\"title\"><a href=\"https://irmin.org/\" class=\"storylink\">Irmin: A distributed database written in OCaml</a><span class=\"sitebit comhead\"> (<a href=\"from?site=irmin.org\"><span class=\"sitestr\">irmin.org</span></a>)</span></td></tr><tr><td colspan=\"2\"></td><td class=\"subtext\">\n",
      "        <span class=\"score\" id=\"score_22591949\">65 points</span> by <a href=\"user?id=poga\" class=\"hnuser\">poga</a> <span class=\"age\"><a href=\"item?id=22591949\">8 hours ago</a></span> <span id=\"unv_22591949\"></span> | <a href=\"hide?id=22591949&amp;goto=news\">hide</a> | <a href=\"item?id=22591949\">4&nbsp;comments</a>              </td></tr>\n",
      "      <tr class=\"spacer\" style=\"height:5px\"></tr>\n",
      "                <tr class='athing' id='22574012'>\n",
      "      <td align=\"right\" valign=\"top\" class=\"title\"><span class=\"rank\">16.</span></td>      <td valign=\"top\" class=\"votelinks\"><center><a id='up_22574012' href='vote?id=22574012&amp;how=up&amp;goto=news'><div class='votearrow' title='upvote'></div></a></center></td><td class=\"title\"><a href=\"https://github.com/sy2002/ai-playground/tree/master/analog\" class=\"storylink\">Analog-Cartpole: A hybrid analog/digital reinforcement learning experiment</a><span class=\"sitebit comhead\"> (<a href=\"from?site=github.com\"><span class=\"sitestr\">github.com</span></a>)</span></td></tr><tr><td colspan=\"2\"></td><td class=\"subtext\">\n",
      "        <span class=\"score\" id=\"score_22574012\">9 points</span> by <a href=\"user?id=ghosthamlet\" class=\"hnuser\">ghosthamlet</a> <span class=\"age\"><a href=\"item?id=22574012\">4 hours ago</a></span> <span id=\"unv_22574012\"></span> | <a href=\"hide?id=22574012&amp;goto=news\">hide</a> | <a href=\"item?id=22574012\">discuss</a>              </td></tr>\n",
      "      <tr class=\"spacer\" style=\"height:5px\"></tr>\n",
      "                <tr class='athing' id='22591454'>\n",
      "      <td align=\"right\" valign=\"top\" class=\"title\"><span class=\"rank\">17.</span></td>      <td valign=\"top\" class=\"votelinks\"><center><a id='up_22591454' href='vote?id=22591454&amp;how=up&amp;goto=news'><div class='votearrow' title='upvote'></div></a></center></td><td class=\"title\"><a href=\"https://blog.ipfire.org/post/why-not-wireguard\" class=\"storylink\">Why Not WireGuard</a><span class=\"sitebit comhead\"> (<a href=\"from?site=ipfire.org\"><span class=\"sitestr\">ipfire.org</span></a>)</span></td></tr><tr><td colspan=\"2\"></td><td class=\"subtext\">\n",
      "        <span class=\"score\" id=\"score_22591454\">115 points</span> by <a href=\"user?id=executesorder66\" class=\"hnuser\">executesorder66</a> <span class=\"age\"><a href=\"item?id=22591454\">9 hours ago</a></span> <span id=\"unv_22591454\"></span> | <a href=\"hide?id=22591454&amp;goto=news\">hide</a> | <a href=\"item?id=22591454\">77&nbsp;comments</a>              </td></tr>\n",
      "      <tr class=\"spacer\" style=\"height:5px\"></tr>\n",
      "                <tr class='athing' id='22591894'>\n",
      "      <td align=\"right\" valign=\"top\" class=\"title\"><span class=\"rank\">18.</span></td>      <td valign=\"top\" class=\"votelinks\"><center><a id='up_22591894' href='vote?id=22591894&amp;how=up&amp;goto=news'><div class='votearrow' title='upvote'></div></a></center></td><td class=\"title\"><a href=\"https://amitness.com/2020/03/illustrated-pirl/\" class=\"storylink\">PIRL: Learn Image Representations Immune to Geometric Transformation</a><span class=\"sitebit comhead\"> (<a href=\"from?site=amitness.com\"><span class=\"sitestr\">amitness.com</span></a>)</span></td></tr><tr><td colspan=\"2\"></td><td class=\"subtext\">\n",
      "        <span class=\"score\" id=\"score_22591894\">15 points</span> by <a href=\"user?id=amitness\" class=\"hnuser\">amitness</a> <span class=\"age\"><a href=\"item?id=22591894\">5 hours ago</a></span> <span id=\"unv_22591894\"></span> | <a href=\"hide?id=22591894&amp;goto=news\">hide</a> | <a href=\"item?id=22591894\">discuss</a>              </td></tr>\n",
      "      <tr class=\"spacer\" style=\"height:5px\"></tr>\n",
      "                <tr class='athing' id='22599838'>\n",
      "      <td align=\"right\" valign=\"top\" class=\"title\"><span class=\"rank\">19.</span></td>      <td valign=\"top\" class=\"votelinks\"><center><a id='up_22599838' href='vote?id=22599838&amp;how=up&amp;goto=news'><div class='votearrow' title='upvote'></div></a></center></td><td class=\"title\"><a href=\"https://www.theatlantic.com/politics/archive/2020/03/coronavirus-romney-yang-money/608134/\" class=\"storylink\">What If Andrew Yang Was Right?</a><span class=\"sitebit comhead\"> (<a href=\"from?site=theatlantic.com\"><span class=\"sitestr\">theatlantic.com</span></a>)</span></td></tr><tr><td colspan=\"2\"></td><td class=\"subtext\">\n",
      "        <span class=\"score\" id=\"score_22599838\">127 points</span> by <a href=\"user?id=Reedx\" class=\"hnuser\">Reedx</a> <span class=\"age\"><a href=\"item?id=22599838\">8 hours ago</a></span> <span id=\"unv_22599838\"></span> | <a href=\"hide?id=22599838&amp;goto=news\">hide</a> | <a href=\"item?id=22599838\">183&nbsp;comments</a>              </td></tr>\n",
      "      <tr class=\"spacer\" style=\"height:5px\"></tr>\n",
      "                <tr class='athing' id='22602019'>\n",
      "      <td align=\"right\" valign=\"top\" class=\"title\"><span class=\"rank\">20.</span></td>      <td valign=\"top\" class=\"votelinks\"><center><a id='up_22602019' href='vote?id=22602019&amp;how=up&amp;goto=news'><div class='votearrow' title='upvote'></div></a></center></td><td class=\"title\"><a href=\"https://www.repubblica.it/salute/medicina-e-ricerca/2020/03/16/news/coronavirus_studio_il_50-75_dei_casi_a_vo_sono_asintomatici_e_molto_contagiosi-251474302/?ref=RHPPTP-BH-I251454518-C12-P3-S2.4-T1\" class=\"storylink\">50% – 75% of cases of Covid-19 are asymptomatic</a><span class=\"sitebit comhead\"> (<a href=\"from?site=repubblica.it\"><span class=\"sitestr\">repubblica.it</span></a>)</span></td></tr><tr><td colspan=\"2\"></td><td class=\"subtext\">\n",
      "        <span class=\"score\" id=\"score_22602019\">200 points</span> by <a href=\"user?id=fortran77\" class=\"hnuser\">fortran77</a> <span class=\"age\"><a href=\"item?id=22602019\">3 hours ago</a></span> <span id=\"unv_22602019\"></span> | <a href=\"hide?id=22602019&amp;goto=news\">hide</a> | <a href=\"item?id=22602019\">141&nbsp;comments</a>              </td></tr>\n",
      "      <tr class=\"spacer\" style=\"height:5px\"></tr>\n",
      "                <tr class='athing' id='22600998'>\n",
      "      <td align=\"right\" valign=\"top\" class=\"title\"><span class=\"rank\">21.</span></td>      <td valign=\"top\" class=\"votelinks\"><center><a id='up_22600998' href='vote?id=22600998&amp;how=up&amp;goto=news'><div class='votearrow' title='upvote'></div></a></center></td><td class=\"title\"><a href=\"https://github.com/realrasengan/dnslive-webhost\" class=\"storylink\">Show HN: Free web hosting for handshake TLDs, no account required</a><span class=\"sitebit comhead\"> (<a href=\"from?site=github.com\"><span class=\"sitestr\">github.com</span></a>)</span></td></tr><tr><td colspan=\"2\"></td><td class=\"subtext\">\n",
      "        <span class=\"score\" id=\"score_22600998\">16 points</span> by <a href=\"user?id=rasengan\" class=\"hnuser\">rasengan</a> <span class=\"age\"><a href=\"item?id=22600998\">5 hours ago</a></span> <span id=\"unv_22600998\"></span> | <a href=\"hide?id=22600998&amp;goto=news\">hide</a> | <a href=\"item?id=22600998\">4&nbsp;comments</a>              </td></tr>\n",
      "      <tr class=\"spacer\" style=\"height:5px\"></tr>\n",
      "                <tr class='athing' id='22591853'>\n",
      "      <td align=\"right\" valign=\"top\" class=\"title\"><span class=\"rank\">22.</span></td>      <td valign=\"top\" class=\"votelinks\"><center><a id='up_22591853' href='vote?id=22591853&amp;how=up&amp;goto=news'><div class='votearrow' title='upvote'></div></a></center></td><td class=\"title\"><a href=\"https://hell.j38.net/\" class=\"storylink\">Hell is Other People: an experiment in anti-social media</a><span class=\"sitebit comhead\"> (<a href=\"from?site=j38.net\"><span class=\"sitestr\">j38.net</span></a>)</span></td></tr><tr><td colspan=\"2\"></td><td class=\"subtext\">\n",
      "        <span class=\"score\" id=\"score_22591853\">75 points</span> by <a href=\"user?id=donohoe\" class=\"hnuser\">donohoe</a> <span class=\"age\"><a href=\"item?id=22591853\">14 hours ago</a></span> <span id=\"unv_22591853\"></span> | <a href=\"hide?id=22591853&amp;goto=news\">hide</a> | <a href=\"item?id=22591853\">26&nbsp;comments</a>              </td></tr>\n",
      "      <tr class=\"spacer\" style=\"height:5px\"></tr>\n",
      "                <tr class='athing' id='22591952'>\n",
      "      <td align=\"right\" valign=\"top\" class=\"title\"><span class=\"rank\">23.</span></td>      <td valign=\"top\" class=\"votelinks\"><center><a id='up_22591952' href='vote?id=22591952&amp;how=up&amp;goto=news'><div class='votearrow' title='upvote'></div></a></center></td><td class=\"title\"><a href=\"https://github.com/hugolgst/digart\" class=\"storylink\" rel=\"nofollow\">Circle visualization of a number's digits, like with π</a><span class=\"sitebit comhead\"> (<a href=\"from?site=github.com\"><span class=\"sitestr\">github.com</span></a>)</span></td></tr><tr><td colspan=\"2\"></td><td class=\"subtext\">\n",
      "        <span class=\"score\" id=\"score_22591952\">5 points</span> by <a href=\"user?id=trypho\" class=\"hnuser\">trypho</a> <span class=\"age\"><a href=\"item?id=22591952\">2 hours ago</a></span> <span id=\"unv_22591952\"></span> | <a href=\"hide?id=22591952&amp;goto=news\">hide</a> | <a href=\"item?id=22591952\">discuss</a>              </td></tr>\n",
      "      <tr class=\"spacer\" style=\"height:5px\"></tr>\n",
      "                <tr class='athing' id='22599415'>\n",
      "      <td align=\"right\" valign=\"top\" class=\"title\"><span class=\"rank\">24.</span></td>      <td valign=\"top\" class=\"votelinks\"><center><a id='up_22599415' href='vote?id=22599415&amp;how=up&amp;goto=news'><div class='votearrow' title='upvote'></div></a></center></td><td class=\"title\"><a href=\"https://github.com/jcl5m1/ventilator\" class=\"storylink\">Low-Cost Arduino-Based Ventilator</a><span class=\"sitebit comhead\"> (<a href=\"from?site=github.com\"><span class=\"sitestr\">github.com</span></a>)</span></td></tr><tr><td colspan=\"2\"></td><td class=\"subtext\">\n",
      "        <span class=\"score\" id=\"score_22599415\">128 points</span> by <a href=\"user?id=guiambros\" class=\"hnuser\">guiambros</a> <span class=\"age\"><a href=\"item?id=22599415\">9 hours ago</a></span> <span id=\"unv_22599415\"></span> | <a href=\"hide?id=22599415&amp;goto=news\">hide</a> | <a href=\"item?id=22599415\">68&nbsp;comments</a>              </td></tr>\n",
      "      <tr class=\"spacer\" style=\"height:5px\"></tr>\n",
      "                <tr class='athing' id='22599137'>\n",
      "      <td align=\"right\" valign=\"top\" class=\"title\"><span class=\"rank\">25.</span></td>      <td valign=\"top\" class=\"votelinks\"><center><a id='up_22599137' href='vote?id=22599137&amp;how=up&amp;goto=news'><div class='votearrow' title='upvote'></div></a></center></td><td class=\"title\"><a href=\"https://labs.ripe.net/Members/job_snijders/dont-terminate-peoples-internet-connections\" class=\"storylink\">Don't Terminate People's Internet Connections</a><span class=\"sitebit comhead\"> (<a href=\"from?site=ripe.net\"><span class=\"sitestr\">ripe.net</span></a>)</span></td></tr><tr><td colspan=\"2\"></td><td class=\"subtext\">\n",
      "        <span class=\"score\" id=\"score_22599137\">224 points</span> by <a href=\"user?id=venti\" class=\"hnuser\">venti</a> <span class=\"age\"><a href=\"item?id=22599137\">9 hours ago</a></span> <span id=\"unv_22599137\"></span> | <a href=\"hide?id=22599137&amp;goto=news\">hide</a> | <a href=\"item?id=22599137\">83&nbsp;comments</a>              </td></tr>\n",
      "      <tr class=\"spacer\" style=\"height:5px\"></tr>\n",
      "                <tr class='athing' id='22591507'>\n",
      "      <td align=\"right\" valign=\"top\" class=\"title\"><span class=\"rank\">26.</span></td>      <td valign=\"top\" class=\"votelinks\"><center><a id='up_22591507' href='vote?id=22591507&amp;how=up&amp;goto=news'><div class='votearrow' title='upvote'></div></a></center></td><td class=\"title\"><a href=\"https://dev.to/deciduously/i-am-mesmerized-by-our-new-robotic-vacuum-10pc\" class=\"storylink\">I am mesmerized by our new robotic vacuum (2019)</a><span class=\"sitebit comhead\"> (<a href=\"from?site=dev.to\"><span class=\"sitestr\">dev.to</span></a>)</span></td></tr><tr><td colspan=\"2\"></td><td class=\"subtext\">\n",
      "        <span class=\"score\" id=\"score_22591507\">246 points</span> by <a href=\"user?id=mzehrer\" class=\"hnuser\">mzehrer</a> <span class=\"age\"><a href=\"item?id=22591507\">22 hours ago</a></span> <span id=\"unv_22591507\"></span> | <a href=\"hide?id=22591507&amp;goto=news\">hide</a> | <a href=\"item?id=22591507\">160&nbsp;comments</a>              </td></tr>\n",
      "      <tr class=\"spacer\" style=\"height:5px\"></tr>\n",
      "                <tr class='athing' id='22599793'>\n",
      "      <td align=\"right\" valign=\"top\" class=\"title\"><span class=\"rank\">27.</span></td>      <td valign=\"top\" class=\"votelinks\"><center><a id='up_22599793' href='vote?id=22599793&amp;how=up&amp;goto=news'><div class='votearrow' title='upvote'></div></a></center></td><td class=\"title\"><a href=\"http://www.globenewswire.com/news-release/2020/03/16/2001541/0/en/HashiCorp-Raises-175-Million-in-Series-E-Funding-to-Support-Multi-Cloud-Transformation-for-Global-Enterprises.html\" class=\"storylink\">HashiCorp Raises $175M at $5.1B Valuation</a><span class=\"sitebit comhead\"> (<a href=\"from?site=globenewswire.com\"><span class=\"sitestr\">globenewswire.com</span></a>)</span></td></tr><tr><td colspan=\"2\"></td><td class=\"subtext\">\n",
      "        <span class=\"score\" id=\"score_22599793\">217 points</span> by <a href=\"user?id=WestCoastJustin\" class=\"hnuser\">WestCoastJustin</a> <span class=\"age\"><a href=\"item?id=22599793\">8 hours ago</a></span> <span id=\"unv_22599793\"></span> | <a href=\"hide?id=22599793&amp;goto=news\">hide</a> | <a href=\"item?id=22599793\">61&nbsp;comments</a>              </td></tr>\n",
      "      <tr class=\"spacer\" style=\"height:5px\"></tr>\n",
      "                <tr class='athing' id='22591306'>\n",
      "      <td align=\"right\" valign=\"top\" class=\"title\"><span class=\"rank\">28.</span></td>      <td valign=\"top\" class=\"votelinks\"><center><a id='up_22591306' href='vote?id=22591306&amp;how=up&amp;goto=news'><div class='votearrow' title='upvote'></div></a></center></td><td class=\"title\"><a href=\"https://phyphox.org\" class=\"storylink\">Phyphox: Physical Phone Experiments</a><span class=\"sitebit comhead\"> (<a href=\"from?site=phyphox.org\"><span class=\"sitestr\">phyphox.org</span></a>)</span></td></tr><tr><td colspan=\"2\"></td><td class=\"subtext\">\n",
      "        <span class=\"score\" id=\"score_22591306\">37 points</span> by <a href=\"user?id=xenonite\" class=\"hnuser\">xenonite</a> <span class=\"age\"><a href=\"item?id=22591306\">11 hours ago</a></span> <span id=\"unv_22591306\"></span> | <a href=\"hide?id=22591306&amp;goto=news\">hide</a> | <a href=\"item?id=22591306\">4&nbsp;comments</a>              </td></tr>\n",
      "      <tr class=\"spacer\" style=\"height:5px\"></tr>\n",
      "                <tr class='athing' id='22592007'>\n",
      "      <td align=\"right\" valign=\"top\" class=\"title\"><span class=\"rank\">29.</span></td>      <td valign=\"top\" class=\"votelinks\"><center><a id='up_22592007' href='vote?id=22592007&amp;how=up&amp;goto=news'><div class='votearrow' title='upvote'></div></a></center></td><td class=\"title\"><a href=\"https://themillions.com/2020/03/on-pandemic-and-literature.html\" class=\"storylink\" rel=\"nofollow\">On Pandemic and Literature</a><span class=\"sitebit comhead\"> (<a href=\"from?site=themillions.com\"><span class=\"sitestr\">themillions.com</span></a>)</span></td></tr><tr><td colspan=\"2\"></td><td class=\"subtext\">\n",
      "        <span class=\"score\" id=\"score_22592007\">5 points</span> by <a href=\"user?id=drjohnson\" class=\"hnuser\">drjohnson</a> <span class=\"age\"><a href=\"item?id=22592007\">2 hours ago</a></span> <span id=\"unv_22592007\"></span> | <a href=\"hide?id=22592007&amp;goto=news\">hide</a> | <a href=\"item?id=22592007\">2&nbsp;comments</a>              </td></tr>\n",
      "      <tr class=\"spacer\" style=\"height:5px\"></tr>\n",
      "                <tr class='athing' id='22596539'>\n",
      "      <td align=\"right\" valign=\"top\" class=\"title\"><span class=\"rank\">30.</span></td>      <td valign=\"top\" class=\"votelinks\"><center><a id='up_22596539' href='vote?id=22596539&amp;how=up&amp;goto=news'><div class='votearrow' title='upvote'></div></a></center></td><td class=\"title\"><a href=\"https://www.sfchronicle.com/local-politics/article/Bay-Area-must-shelter-in-place-Only-15135014.php?t=ebc54dc680\" class=\"storylink\">Shelter in place for Bay Area counties</a><span class=\"sitebit comhead\"> (<a href=\"from?site=sfchronicle.com\"><span class=\"sitestr\">sfchronicle.com</span></a>)</span></td></tr><tr><td colspan=\"2\"></td><td class=\"subtext\">\n",
      "        <span class=\"score\" id=\"score_22596539\">379 points</span> by <a href=\"user?id=jchallis\" class=\"hnuser\">jchallis</a> <span class=\"age\"><a href=\"item?id=22596539\">13 hours ago</a></span> <span id=\"unv_22596539\"></span> | <a href=\"hide?id=22596539&amp;goto=news\">hide</a> | <a href=\"item?id=22596539\">495&nbsp;comments</a>              </td></tr>\n",
      "      <tr class=\"spacer\" style=\"height:5px\"></tr>\n",
      "            <tr class=\"morespace\" style=\"height:10px\"></tr><tr><td colspan=\"2\"></td><td class=\"title\"><a href=\"news?p=2\" class=\"morelink\" rel=\"next\">More</a></td></tr>\n",
      "  </table>\n",
      "</td></tr>\n",
      "<tr><td><img src=\"s.gif\" height=\"10\" width=\"0\"><table width=\"100%\" cellspacing=\"0\" cellpadding=\"1\"><tr><td bgcolor=\"#ff6600\"></td></tr></table><br><center><a href=\"https://www.ycombinator.com/apply/\">\n",
      "        Applications are open for YC Summer 2020\n",
      "      </a></center><br><center><span class=\"yclinks\"><a href=\"newsguidelines.html\">Guidelines</a>\n",
      "        | <a href=\"newsfaq.html\">FAQ</a>\n",
      "        | <a href=\"mailto:hn@ycombinator.com\">Support</a>\n",
      "        | <a href=\"https://github.com/HackerNews/API\">API</a>\n",
      "        | <a href=\"security.html\">Security</a>\n",
      "        | <a href=\"lists\">Lists</a>\n",
      "        | <a href=\"bookmarklet.html\" rel=\"nofollow\">Bookmarklet</a>\n",
      "        | <a href=\"http://www.ycombinator.com/legal/\">Legal</a>\n",
      "        | <a href=\"http://www.ycombinator.com/apply/\">Apply to YC</a>\n",
      "        | <a href=\"mailto:hn@ycombinator.com\">Contact</a></span><br><br><form method=\"get\" action=\"//hn.algolia.com/\">Search:\n",
      "          <input type=\"text\" name=\"q\" value=\"\" size=\"17\" autocorrect=\"off\" spellcheck=\"false\" autocapitalize=\"off\" autocomplete=\"false\"></form>\n",
      "            </center></td></tr>\n",
      "      </table></center></body><script type='text/javascript' src='hn.js?YsQPndo3ANpC0QSFFgZB'></script></html>\n",
      "\n"
     ]
    }
   ],
   "source": [
    "#### WEB SCRAPING ####\n",
    "import requests\n",
    "\n",
    "r = requests.get('https://news.ycombinator.com')\n",
    "print(r.text)"
   ]
  },
  {
   "cell_type": "code",
   "execution_count": 9,
   "metadata": {},
   "outputs": [
    {
     "name": "stdout",
     "output_type": "stream",
     "text": [
      "\n",
      "        \n",
      "          \n",
      "        Hacker News\n",
      "        \n",
      "                  Hacker News\n",
      "              new | past | comments | ask | show | jobs | submit            \n",
      "                              login\n",
      "                          \n",
      "              \n",
      "\n",
      "              \n",
      "      1.      NsCDE: Not So Common Desktop Environment (github.com)\n",
      "        87 points by bilegeek 5 hours ago  | hide | 21&nbsp;comments              \n",
      "      \n",
      "                \n",
      "      2.      Chloroquine has shown apparent efficacy in treatment of Covid-19 (jst.go.jp)\n",
      "        238 points by robomartin 5 hours ago  | hide | 132&nbsp;comments              \n",
      "      \n",
      "                \n",
      "      3.      Bicycles for the mind have to be see-through [pdf] (akkartik.name)\n",
      "        130 points by mkeeter 7 hours ago  | hide | 20&nbsp;comments              \n",
      "      \n",
      "                \n",
      "      4.      NPM Is Joining GitHub (github.blog)\n",
      "        1609 points by mholt 15 hours ago  | hide | 472&nbsp;comments              \n",
      "      \n",
      "                \n",
      "      5.      Text Processing in the Shell (balthazar-rouberol.com)\n",
      "        98 points by pcr910303 7 hours ago  | hide | 13&nbsp;comments              \n",
      "      \n",
      "                \n",
      "      6.      Show HN: Intention – DAG Todo App (ntention.app)\n",
      "        39 points by DaveWM 4 hours ago  | hide | 36&nbsp;comments              \n",
      "      \n",
      "                \n",
      "      7.      Outbreak – playable simulations of a disease outbreak (meltingasphalt.com)\n",
      "        250 points by gringoDan 13 hours ago  | hide | 45&nbsp;comments              \n",
      "      \n",
      "                \n",
      "      8.      Amazon to hire 100k warehouse and delivery workers (wsj.com)\n",
      "        462 points by psim1 12 hours ago  | hide | 267&nbsp;comments              \n",
      "      \n",
      "                \n",
      "      9.      The Write Stuff for the Commodore 128 (amigalove.com)\n",
      "        31 points by erickhill 5 hours ago  | hide | 4&nbsp;comments              \n",
      "      \n",
      "                \n",
      "      10.      How I recorded an album on my own, in my room (medium.com)\n",
      "        199 points by romes 14 hours ago  | hide | 85&nbsp;comments              \n",
      "      \n",
      "                \n",
      "      11.      Looking inside a vintage Soviet TTL logic integrated circuit (righto.com)\n",
      "        94 points by sohkamyung 9 hours ago  | hide | 12&nbsp;comments              \n",
      "      \n",
      "                \n",
      "      12.      Global oil use heads for steepest annual contraction (worldoil.com)\n",
      "        152 points by JSeymourATL 11 hours ago  | hide | 118&nbsp;comments              \n",
      "      \n",
      "                \n",
      "      13.      Kind - run local Kubernetes clusters using Docker (k8s.io)\n",
      "        145 points by supdatecron 11 hours ago  | hide | 52&nbsp;comments              \n",
      "      \n",
      "                \n",
      "      14.      Mary Dash's Writing Tips (plainlanguage.gov)\n",
      "        163 points by primogen 14 hours ago  | hide | 58&nbsp;comments              \n",
      "      \n",
      "                \n",
      "      15.      Irmin: A distributed database written in OCaml (irmin.org)\n",
      "        65 points by poga 8 hours ago  | hide | 4&nbsp;comments              \n",
      "      \n",
      "                \n",
      "      16.      Analog-Cartpole: A hybrid analog/digital reinforcement learning experiment (github.com)\n",
      "        9 points by ghosthamlet 4 hours ago  | hide | discuss              \n",
      "      \n",
      "                \n",
      "      17.      Why Not WireGuard (ipfire.org)\n",
      "        115 points by executesorder66 9 hours ago  | hide | 77&nbsp;comments              \n",
      "      \n",
      "                \n",
      "      18.      PIRL: Learn Image Representations Immune to Geometric Transformation (amitness.com)\n",
      "        15 points by amitness 5 hours ago  | hide | discuss              \n",
      "      \n",
      "                \n",
      "      19.      What If Andrew Yang Was Right? (theatlantic.com)\n",
      "        127 points by Reedx 8 hours ago  | hide | 183&nbsp;comments              \n",
      "      \n",
      "                \n",
      "      20.      50% – 75% of cases of Covid-19 are asymptomatic (repubblica.it)\n",
      "        200 points by fortran77 3 hours ago  | hide | 141&nbsp;comments              \n",
      "      \n",
      "                \n",
      "      21.      Show HN: Free web hosting for handshake TLDs, no account required (github.com)\n",
      "        16 points by rasengan 5 hours ago  | hide | 4&nbsp;comments              \n",
      "      \n",
      "                \n",
      "      22.      Hell is Other People: an experiment in anti-social media (j38.net)\n",
      "        75 points by donohoe 14 hours ago  | hide | 26&nbsp;comments              \n",
      "      \n",
      "                \n",
      "      23.      Circle visualization of a number's digits, like with π (github.com)\n",
      "        5 points by trypho 2 hours ago  | hide | discuss              \n",
      "      \n",
      "                \n",
      "      24.      Low-Cost Arduino-Based Ventilator (github.com)\n",
      "        128 points by guiambros 9 hours ago  | hide | 68&nbsp;comments              \n",
      "      \n",
      "                \n",
      "      25.      Don't Terminate People's Internet Connections (ripe.net)\n",
      "        224 points by venti 9 hours ago  | hide | 83&nbsp;comments              \n",
      "      \n",
      "                \n",
      "      26.      I am mesmerized by our new robotic vacuum (2019) (dev.to)\n",
      "        246 points by mzehrer 22 hours ago  | hide | 160&nbsp;comments              \n",
      "      \n",
      "                \n",
      "      27.      HashiCorp Raises $175M at $5.1B Valuation (globenewswire.com)\n",
      "        217 points by WestCoastJustin 8 hours ago  | hide | 61&nbsp;comments              \n",
      "      \n",
      "                \n",
      "      28.      Phyphox: Physical Phone Experiments (phyphox.org)\n",
      "        37 points by xenonite 11 hours ago  | hide | 4&nbsp;comments              \n",
      "      \n",
      "                \n",
      "      29.      On Pandemic and Literature (themillions.com)\n",
      "        5 points by drjohnson 2 hours ago  | hide | 2&nbsp;comments              \n",
      "      \n",
      "                \n",
      "      30.      Shelter in place for Bay Area counties (sfchronicle.com)\n",
      "        379 points by jchallis 13 hours ago  | hide | 495&nbsp;comments              \n",
      "      \n",
      "            More\n",
      "  \n",
      "\n",
      "\n",
      "        Applications are open for YC Summer 2020\n",
      "      Guidelines\n",
      "        | FAQ\n",
      "        | Support\n",
      "        | API\n",
      "        | Security\n",
      "        | Lists\n",
      "        | Bookmarklet\n",
      "        | Legal\n",
      "        | Apply to YC\n",
      "        | ContactSearch:\n",
      "          \n",
      "            \n",
      "      \n",
      "\n"
     ]
    }
   ],
   "source": [
    "import re\n",
    "pattern = re.compile(r'<.*?>')\n",
    "print(pattern.sub('',r.text))"
   ]
  },
  {
   "cell_type": "code",
   "execution_count": 11,
   "metadata": {},
   "outputs": [
    {
     "name": "stdout",
     "output_type": "stream",
     "text": [
      "\n",
      "        \n",
      "          \n",
      "        Hacker News\n",
      "        \n",
      "                  Hacker News\n",
      "              new | past | comments | ask | show | jobs | submit            \n",
      "                              login\n",
      "                          \n",
      "              \n",
      "\n",
      "              \n",
      "      1.      NsCDE: Not So Common Desktop Environment (github.com)\n",
      "        87 points by bilegeek 5 hours ago  | hide | 21 comments              \n",
      "      \n",
      "                \n",
      "      2.      Chloroquine has shown apparent efficacy in treatment of Covid-19 (jst.go.jp)\n",
      "        238 points by robomartin 5 hours ago  | hide | 132 comments              \n",
      "      \n",
      "                \n",
      "      3.      Bicycles for the mind have to be see-through [pdf] (akkartik.name)\n",
      "        130 points by mkeeter 7 hours ago  | hide | 20 comments              \n",
      "      \n",
      "                \n",
      "      4.      NPM Is Joining GitHub (github.blog)\n",
      "        1609 points by mholt 15 hours ago  | hide | 472 comments              \n",
      "      \n",
      "                \n",
      "      5.      Text Processing in the Shell (balthazar-rouberol.com)\n",
      "        98 points by pcr910303 7 hours ago  | hide | 13 comments              \n",
      "      \n",
      "                \n",
      "      6.      Show HN: Intention – DAG Todo App (ntention.app)\n",
      "        39 points by DaveWM 4 hours ago  | hide | 36 comments              \n",
      "      \n",
      "                \n",
      "      7.      Outbreak – playable simulations of a disease outbreak (meltingasphalt.com)\n",
      "        250 points by gringoDan 13 hours ago  | hide | 45 comments              \n",
      "      \n",
      "                \n",
      "      8.      Amazon to hire 100k warehouse and delivery workers (wsj.com)\n",
      "        462 points by psim1 12 hours ago  | hide | 267 comments              \n",
      "      \n",
      "                \n",
      "      9.      The Write Stuff for the Commodore 128 (amigalove.com)\n",
      "        31 points by erickhill 5 hours ago  | hide | 4 comments              \n",
      "      \n",
      "                \n",
      "      10.      How I recorded an album on my own, in my room (medium.com)\n",
      "        199 points by romes 14 hours ago  | hide | 85 comments              \n",
      "      \n",
      "                \n",
      "      11.      Looking inside a vintage Soviet TTL logic integrated circuit (righto.com)\n",
      "        94 points by sohkamyung 9 hours ago  | hide | 12 comments              \n",
      "      \n",
      "                \n",
      "      12.      Global oil use heads for steepest annual contraction (worldoil.com)\n",
      "        152 points by JSeymourATL 11 hours ago  | hide | 118 comments              \n",
      "      \n",
      "                \n",
      "      13.      Kind - run local Kubernetes clusters using Docker (k8s.io)\n",
      "        145 points by supdatecron 11 hours ago  | hide | 52 comments              \n",
      "      \n",
      "                \n",
      "      14.      Mary Dash's Writing Tips (plainlanguage.gov)\n",
      "        163 points by primogen 14 hours ago  | hide | 58 comments              \n",
      "      \n",
      "                \n",
      "      15.      Irmin: A distributed database written in OCaml (irmin.org)\n",
      "        65 points by poga 8 hours ago  | hide | 4 comments              \n",
      "      \n",
      "                \n",
      "      16.      Analog-Cartpole: A hybrid analog/digital reinforcement learning experiment (github.com)\n",
      "        9 points by ghosthamlet 4 hours ago  | hide | discuss              \n",
      "      \n",
      "                \n",
      "      17.      Why Not WireGuard (ipfire.org)\n",
      "        115 points by executesorder66 9 hours ago  | hide | 77 comments              \n",
      "      \n",
      "                \n",
      "      18.      PIRL: Learn Image Representations Immune to Geometric Transformation (amitness.com)\n",
      "        15 points by amitness 5 hours ago  | hide | discuss              \n",
      "      \n",
      "                \n",
      "      19.      What If Andrew Yang Was Right? (theatlantic.com)\n",
      "        127 points by Reedx 8 hours ago  | hide | 183 comments              \n",
      "      \n",
      "                \n",
      "      20.      50% – 75% of cases of Covid-19 are asymptomatic (repubblica.it)\n",
      "        200 points by fortran77 3 hours ago  | hide | 141 comments              \n",
      "      \n",
      "                \n",
      "      21.      Show HN: Free web hosting for handshake TLDs, no account required (github.com)\n",
      "        16 points by rasengan 5 hours ago  | hide | 4 comments              \n",
      "      \n",
      "                \n",
      "      22.      Hell is Other People: an experiment in anti-social media (j38.net)\n",
      "        75 points by donohoe 14 hours ago  | hide | 26 comments              \n",
      "      \n",
      "                \n",
      "      23.      Circle visualization of a number's digits, like with π (github.com)\n",
      "        5 points by trypho 2 hours ago  | hide | discuss              \n",
      "      \n",
      "                \n",
      "      24.      Low-Cost Arduino-Based Ventilator (github.com)\n",
      "        128 points by guiambros 9 hours ago  | hide | 68 comments              \n",
      "      \n",
      "                \n",
      "      25.      Don't Terminate People's Internet Connections (ripe.net)\n",
      "        224 points by venti 9 hours ago  | hide | 83 comments              \n",
      "      \n",
      "                \n",
      "      26.      I am mesmerized by our new robotic vacuum (2019) (dev.to)\n",
      "        246 points by mzehrer 22 hours ago  | hide | 160 comments              \n",
      "      \n",
      "                \n",
      "      27.      HashiCorp Raises $175M at $5.1B Valuation (globenewswire.com)\n",
      "        217 points by WestCoastJustin 8 hours ago  | hide | 61 comments              \n",
      "      \n",
      "                \n",
      "      28.      Phyphox: Physical Phone Experiments (phyphox.org)\n",
      "        37 points by xenonite 11 hours ago  | hide | 4 comments              \n",
      "      \n",
      "                \n",
      "      29.      On Pandemic and Literature (themillions.com)\n",
      "        5 points by drjohnson 2 hours ago  | hide | 2 comments              \n",
      "      \n",
      "                \n",
      "      30.      Shelter in place for Bay Area counties (sfchronicle.com)\n",
      "        379 points by jchallis 13 hours ago  | hide | 495 comments              \n",
      "      \n",
      "            More\n",
      "  \n",
      "\n",
      "\n",
      "        Applications are open for YC Summer 2020\n",
      "      Guidelines\n",
      "        | FAQ\n",
      "        | Support\n",
      "        | API\n",
      "        | Security\n",
      "        | Lists\n",
      "        | Bookmarklet\n",
      "        | Legal\n",
      "        | Apply to YC\n",
      "        | ContactSearch:\n",
      "          \n",
      "            \n",
      "      \n",
      "\n"
     ]
    }
   ],
   "source": [
    "from bs4 import BeautifulSoup\n",
    "\n",
    "soup = BeautifulSoup(r.text,\"html5lib\")\n",
    "print(soup.get_text())"
   ]
  },
  {
   "cell_type": "code",
   "execution_count": 12,
   "metadata": {},
   "outputs": [
    {
     "name": "stdout",
     "output_type": "stream",
     "text": [
      "<tr class=\"athing\" id=\"22601342\">\n",
      "      <td align=\"right\" class=\"title\" valign=\"top\"><span class=\"rank\">1.</span></td>      <td class=\"votelinks\" valign=\"top\"><center><a href=\"vote?id=22601342&amp;how=up&amp;goto=news\" id=\"up_22601342\"><div class=\"votearrow\" title=\"upvote\"></div></a></center></td><td class=\"title\"><a class=\"storylink\" href=\"https://github.com/nscde/nscde\">NsCDE: Not So Common Desktop Environment</a><span class=\"sitebit comhead\"> (<a href=\"from?site=github.com\"><span class=\"sitestr\">github.com</span></a>)</span></td></tr>\n"
     ]
    }
   ],
   "source": [
    "summaries = soup.find_all(\"tr\",class_='athing')\n",
    "print(summaries[0])"
   ]
  },
  {
   "cell_type": "code",
   "execution_count": 13,
   "metadata": {},
   "outputs": [
    {
     "data": {
      "text/plain": [
       "'NsCDE: Not So Common Desktop Environment'"
      ]
     },
     "execution_count": 13,
     "metadata": {},
     "output_type": "execute_result"
    }
   ],
   "source": [
    "summaries[0].find('a',class_='storylink').get_text().strip()"
   ]
  },
  {
   "cell_type": "code",
   "execution_count": 14,
   "metadata": {},
   "outputs": [
    {
     "name": "stdout",
     "output_type": "stream",
     "text": [
      "total no. of news article:  30\n",
      "['NsCDE: Not So Common Desktop Environment', 'Chloroquine has shown apparent efficacy in treatment of Covid-19', 'Bicycles for the mind have to be see-through [pdf]']\n"
     ]
    }
   ],
   "source": [
    "titles = []\n",
    "for i in summaries:\n",
    "    title = i.find('a',class_='storylink').get_text().strip()\n",
    "    titles.append(title)\n",
    "\n",
    "print(\"total no. of news article: \",len(titles))\n",
    "print(titles[:3])\n",
    "    "
   ]
  },
  {
   "cell_type": "code",
   "execution_count": 15,
   "metadata": {},
   "outputs": [
    {
     "name": "stdout",
     "output_type": "stream",
     "text": [
      "The first time you see The Second Renaissance it may look boring. Look at it at least twice and definitely watch part 2. It will change your view of the matrix. Are the human people the ones who started the war ? Is AI a bad thing ?\n"
     ]
    }
   ],
   "source": [
    "#### NORMALIZATION ####\n",
    "\n",
    "text = \"The first time you see The Second Renaissance it may look boring. Look at it at least twice and definitely watch part 2. It will change your view of the matrix. Are the human people the ones who started the war ? Is AI a bad thing ?\"\n",
    "print(text)"
   ]
  },
  {
   "cell_type": "code",
   "execution_count": 16,
   "metadata": {},
   "outputs": [
    {
     "name": "stdout",
     "output_type": "stream",
     "text": [
      "the first time you see the second renaissance it may look boring  look at it at least twice and definitely watch part 2  it will change your view of the matrix  are the human people the ones who started the war   is ai a bad thing  \n"
     ]
    }
   ],
   "source": [
    "text = text.lower()\n",
    "# text = re.sub(r'[.,:?]',' ',text)\n",
    "text = re.sub(r'[^a-zA-Z0-9]',' ',text)\n",
    "print(text)"
   ]
  },
  {
   "cell_type": "code",
   "execution_count": 17,
   "metadata": {},
   "outputs": [
    {
     "name": "stdout",
     "output_type": "stream",
     "text": [
      "['the', 'first', 'time', 'you', 'see', 'the', 'second', 'renaissance', 'it', 'may', 'look', 'boring', 'look', 'at', 'it', 'at', 'least', 'twice', 'and', 'definitely', 'watch', 'part', '2', 'it', 'will', 'change', 'your', 'view', 'of', 'the', 'matrix', 'are', 'the', 'human', 'people', 'the', 'ones', 'who', 'started', 'the', 'war', 'is', 'ai', 'a', 'bad', 'thing']\n"
     ]
    }
   ],
   "source": [
    "#### TOKENIZATION ###\n",
    "words = text.split()\n",
    "print(words)"
   ]
  },
  {
   "cell_type": "code",
   "execution_count": 18,
   "metadata": {},
   "outputs": [
    {
     "name": "stdout",
     "output_type": "stream",
     "text": [
      "['The', 'first', 'time', 'you', 'see', 'The', 'Second', 'Renaissance', 'it', 'may', 'look', 'boring', '.', 'Look', 'at', 'it', 'at', 'least', 'twice', 'and', 'definitely', 'watch', 'part', '2', '.', 'It', 'will', 'change', 'your', 'view', 'of', 'the', 'matrix', '.', 'Are', 'the', 'human', 'people', 'the', 'ones', 'who', 'started', 'the', 'war', '?', 'Is', 'AI', 'a', 'bad', 'thing', '?']\n"
     ]
    }
   ],
   "source": [
    "from nltk import word_tokenize\n",
    "text1 = \"The first time you see The Second Renaissance it may look boring. Look at it at least twice and definitely watch part 2. It will change your view of the matrix. Are the human people the ones who started the war ? Is AI a bad thing ?\"\n",
    "words = word_tokenize(text1)\n",
    "print(words)"
   ]
  },
  {
   "cell_type": "code",
   "execution_count": 19,
   "metadata": {
    "scrolled": true
   },
   "outputs": [
    {
     "name": "stdout",
     "output_type": "stream",
     "text": [
      "['The first time you see The Second Renaissance it may look boring.', 'Look at it at least twice and definitely watch part 2.', 'It will change your view of the matrix.', 'Are the human people the ones who started the war ?', 'Is AI a bad thing ?']\n"
     ]
    }
   ],
   "source": [
    "from nltk import sent_tokenize\n",
    "sentences = sent_tokenize(text1)\n",
    "print(sentences)"
   ]
  },
  {
   "cell_type": "code",
   "execution_count": 20,
   "metadata": {},
   "outputs": [],
   "source": [
    "#### STOP WORDS REMOVAL ####\n",
    "from nltk.corpus import stopwords\n",
    "\n",
    "stop_words = stopwords.words('english')\n",
    "\n",
    "text = text1\n",
    "text = re.sub(r'[^a-zA-Z0-9]',' ',text.lower())\n",
    "tokens = text.split()"
   ]
  },
  {
   "cell_type": "code",
   "execution_count": 21,
   "metadata": {},
   "outputs": [
    {
     "name": "stdout",
     "output_type": "stream",
     "text": [
      "processed text:  first time see second renaissance may look boring look least twice definitely watch part 2 change view matrix human people ones started war ai bad thing\n",
      "\n",
      "with tokens:  ['first', 'time', 'see', 'second', 'renaissance', 'may', 'look', 'boring', 'look', 'least', 'twice', 'definitely', 'watch', 'part', '2', 'change', 'view', 'matrix', 'human', 'people', 'ones', 'started', 'war', 'ai', 'bad', 'thing']\n"
     ]
    }
   ],
   "source": [
    "tokens_without_stopwords = [w for w in tokens if w not in stop_words]\n",
    "print('processed text: ',' '.join(tokens_without_stopwords))\n",
    "print('\\nwith tokens: ',tokens_without_stopwords)\n"
   ]
  },
  {
   "cell_type": "code",
   "execution_count": 4,
   "metadata": {},
   "outputs": [
    {
     "data": {
      "image/png": "[encoded data removed]",
      "text/plain": [
       "Tree('S', [Tree('ORGANIZATION', [('TATA', 'NNP')]), ('bought', 'VBD'), Tree('ORGANIZATION', [('JIO', 'NNP')])])"
      ]
     },
     "execution_count": 4,
     "metadata": {},
     "output_type": "execute_result"
    }
   ],
   "source": [
    "### NAMED ENTITY RECOGNITION ####\n",
    "from nltk import pos_tag,ne_chunk\n",
    "from nltk import word_tokenize\n",
    "\n",
    "ne_chunk(pos_tag(word_tokenize('TATA bought JIO')))"
   ]
  },
  {
   "cell_type": "code",
   "execution_count": 24,
   "metadata": {},
   "outputs": [
    {
     "name": "stdout",
     "output_type": "stream",
     "text": [
      "['first', 'time', 'see', 'second', 'renaiss', 'may', 'look', 'bore', 'look', 'least', 'twice', 'definit', 'watch', 'part', '2', 'chang', 'view', 'matrix', 'human', 'peopl', 'one', 'start', 'war', 'ai', 'bad', 'thing']\n"
     ]
    }
   ],
   "source": [
    "### STEMMING ####\n",
    "from nltk.stem.porter import PorterStemmer\n",
    "stemmed = [PorterStemmer().stem(w) for w in tokens_without_stopwords]\n",
    "print(stemmed)"
   ]
  },
  {
   "cell_type": "code",
   "execution_count": 26,
   "metadata": {},
   "outputs": [
    {
     "name": "stdout",
     "output_type": "stream",
     "text": [
      "['first', 'time', 'see', 'second', 'renaissance', 'may', 'look', 'boring', 'look', 'least', 'twice', 'definitely', 'watch', 'part', '2', 'change', 'view', 'matrix', 'human', 'people', 'one', 'started', 'war', 'ai', 'bad', 'thing']\n"
     ]
    }
   ],
   "source": [
    "#### LEMMATIZATION ####\n",
    "from nltk.stem.wordnet import WordNetLemmatizer\n",
    "\n",
    "lemmed = [WordNetLemmatizer().lemmatize(w) for w in tokens_without_stopwords]\n",
    "print(lemmed)"
   ]
  },
  {
   "cell_type": "code",
   "execution_count": 27,
   "metadata": {},
   "outputs": [
    {
     "name": "stdout",
     "output_type": "stream",
     "text": [
      "['first', 'time', 'see', 'second', 'renaissance', 'may', 'look', 'bore', 'look', 'least', 'twice', 'definitely', 'watch', 'part', '2', 'change', 'view', 'matrix', 'human', 'people', 'one', 'start', 'war', 'ai', 'bad', 'thing']\n"
     ]
    }
   ],
   "source": [
    "lemmed_with_verb_POS = [WordNetLemmatizer().lemmatize(w,pos='v') for w in lemmed]\n",
    "print(lemmed_with_verb_POS)"
   ]
  },
  {
   "cell_type": "code",
   "execution_count": null,
   "metadata": {},
   "outputs": [],
   "source": []
  }
 ],
 "metadata": {
  "kernelspec": {
   "display_name": "Python 3",
   "language": "python",
   "name": "python3"
  },
  "language_info": {
   "codemirror_mode": {
    "name": "ipython",
    "version": 3
   },
   "file_extension": ".py",
   "mimetype": "text/x-python",
   "name": "python",
   "nbconvert_exporter": "python",
   "pygments_lexer": "ipython3",
   "version": "3.7.3"
  }
 },
 "nbformat": 4,
 "nbformat_minor": 2
}
